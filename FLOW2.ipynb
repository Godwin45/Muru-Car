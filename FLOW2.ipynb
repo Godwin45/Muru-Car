{
 "cells": [
  {
   "cell_type": "code",
   "execution_count": 16,
   "id": "c371aae8-74b2-4549-8959-ca535e0366f3",
   "metadata": {},
   "outputs": [
    {
     "name": "stderr",
     "output_type": "stream",
     "text": [
      "WARNING: Package(s) not found: mlProject\n"
     ]
    }
   ],
   "source": [
    "import kfp\n",
    "import kfp.components as comp\n",
    "from kfp.components import create_component_from_func, InputPath, OutputPath\n",
    "import requests\n",
    "import kfp.dsl as dsl"
   ]
  },
  {
   "cell_type": "code",
   "execution_count": 2,
   "id": "89f07b2f-44d2-467f-962a-c3beadb5c5f9",
   "metadata": {},
   "outputs": [],
   "source": [
    "import logging\n",
    "\n",
    "def prepare_data(output_csv: OutputPath(), csv_url: str) -> None:\n",
    "    logging.basicConfig(level=logging.INFO)\n",
    "    logger = logging.getLogger(__name__)\n",
    "\n",
    "    df = pd.read_csv(csv_url)\n",
    "    logger.info(\"Inside prepare data component\")\n",
    "    logger.debug(df.head())\n",
    "    with open(output_csv, \"w\") as f:\n",
    "        df.to_csv(f, index=False)\n"
   ]
  },
  {
   "cell_type": "code",
   "execution_count": 3,
   "id": "fcc02eca-f38f-4f0d-a8ea-de988f95abee",
   "metadata": {},
   "outputs": [],
   "source": [
    "def train_test_split(input_iris_csv: InputPath(),\n",
    "                     train_csv: OutputPath(),\n",
    "                     test_csv: OutputPath()\n",
    "                    ) -> None:\n",
    "    import pandas as pd\n",
    "    from sklearn.model_selection import train_test_split\n",
    "    print(\"---- Inside train_test_split component ----\")\n",
    "    with open(input_iris_csv) as f:\n",
    "        df = pd.read_csv(f)\n",
    "\n",
    "    train_df, test_df = train_test_split(df, test_size=0.2, stratify=df['class'], random_state=47)\n",
    "    print(\"\\n train_df \\n\", train_df)\n",
    "    print(\"\\n test_df \\n\", test_df)\n",
    "    \n",
    "    with open(train_csv, \"w\") as f:\n",
    "        train_df.to_csv(f, index=False)\n",
    "    with open(test_csv, \"w\") as f:\n",
    "        test_df.to_csv(f, index=False)\n"
   ]
  },
  {
   "cell_type": "code",
   "execution_count": 4,
   "id": "f0fe67aa-2d6c-4409-85f4-6826059f6eaf",
   "metadata": {},
   "outputs": [],
   "source": [
    "def training_basic_classifier(train_csv: InputPath(), \n",
    "                              trained_model: OutputPath(), \n",
    "                              target_column:str,\n",
    "                             ) -> None:\n",
    "    import pandas as pd\n",
    "    from sklearn.linear_model import LogisticRegression\n",
    "    import pickle\n",
    "\n",
    "    print(\"------- Inside training_basic_classifier component -------\")\n",
    "\n",
    "    with open(train_csv) as f:\n",
    "        train_df = pd.read_csv(f)\n",
    "    target_column = target_column   \n",
    "\n",
    "    X_train = train_df.loc[:, train_df.columns != target_column]\n",
    "    y_train = train_df.loc[:, train_df.columns == target_column]\n",
    "\n",
    "    classifier = LogisticRegression(max_iter=500)\n",
    "    classifier.fit(X_train, y_train)\n",
    "\n",
    "    with open(trained_model, 'wb') as f:\n",
    "        pickle.dump(classifier, f)\n",
    "\n",
    "    print(\"\\nLogistic regression classifier is trained on iris data .....\")\n"
   ]
  },
  {
   "cell_type": "code",
   "execution_count": 5,
   "id": "d762c0a5-ce87-4e4d-9ca7-2b381c60074e",
   "metadata": {},
   "outputs": [],
   "source": [
    "def predict_on_test_data(trained_model: InputPath(),\n",
    "                         test_csv: InputPath(),\n",
    "                         y_pred_csv: OutputPath(),\n",
    "                         target_column: str) -> None:\n",
    "    import pandas as pd\n",
    "    import pickle\n",
    "\n",
    "    print(\"---- Inside predict_on_test_data component ----\")\n",
    "    \n",
    "    with open(test_csv, 'rb') as f:\n",
    "        test_df = pd.read_csv(f)\n",
    "\n",
    "    with open(trained_model, 'rb') as f:\n",
    "        logistic_reg_model = pickle.load(f)\n",
    "    target_column = target_column\n",
    "\n",
    "    X_test = test_df.loc[:, test_df.columns != target_column]\n",
    "\n",
    "    y_pred = logistic_reg_model.predict(X_test)\n",
    "    y_pred_df = pd.DataFrame(y_pred)\n",
    "    print(y_pred_df)\n",
    "\n",
    "    with open(y_pred_csv, 'wb') as f:\n",
    "        y_pred_df.to_csv(f, index=False)\n"
   ]
  },
  {
   "cell_type": "code",
   "execution_count": 6,
   "id": "9a66a9fa-ac2c-49b2-b453-30e9579deba0",
   "metadata": {},
   "outputs": [],
   "source": [
    "def get_metrics(trained_model: InputPath(),\n",
    "               test_csv: InputPath(),\n",
    "               y_pred_csv: InputPath(),\n",
    "               target_column: str) -> None:\n",
    "    import pandas as pd\n",
    "    import numpy as np\n",
    "    import pickle\n",
    "    from sklearn.metrics import accuracy_score, precision_score, recall_score, log_loss\n",
    "    from sklearn import metrics\n",
    "    print(\"---- Inside get_metrics component ----\")\n",
    "    with open(test_csv) as f:\n",
    "        test_df = pd.read_csv(f)\n",
    "\n",
    "    with open(trained_model, 'rb') as f:\n",
    "        logistic_reg_model = pickle.load(f)\n",
    "\n",
    "    with open(y_pred_csv, 'rb') as f:\n",
    "        y_pred_df = pd.read_csv(f)\n",
    "    \n",
    "    y_pred = y_pred_df.to_numpy()\n",
    "    y_test = test_df.loc[:, test_df.columns == target_column]\n",
    "\n",
    "    acc = accuracy_score(y_test, y_pred)\n",
    "    prec = precision_score(y_test, y_pred, average='micro')\n",
    "    recall = recall_score(y_test, y_pred, average='micro')\n",
    "\n",
    "    print(metrics.classification_report(y_test, y_pred))\n",
    "    \n",
    "    print(\"\\nModel Metrics:\", {'accuracy': round(acc, 2), 'precision': round(prec, 2), 'recall': round(recall, 2)})\n"
   ]
  },
  {
   "cell_type": "code",
   "execution_count": 7,
   "id": "954ba884-6a75-4c53-8a30-2d07d54ea4c5",
   "metadata": {},
   "outputs": [],
   "source": [
    "create_step_prepare_data = kfp.components.create_component_from_func(\n",
    "    func=prepare_data,\n",
    "    base_image='python:3.7',\n",
    "    packages_to_install=['pandas==1.2.4','numpy==1.21.0']\n",
    ")"
   ]
  },
  {
   "cell_type": "code",
   "execution_count": 8,
   "id": "7eb13bfb-1442-4805-99e1-94bb4511f26b",
   "metadata": {},
   "outputs": [],
   "source": [
    "create_step_train_test_split = kfp.components.create_component_from_func(\n",
    "    func=train_test_split,\n",
    "    base_image='python:3.7',\n",
    "    packages_to_install=['pandas==1.2.4','numpy==1.21.0']\n",
    ")"
   ]
  },
  {
   "cell_type": "code",
   "execution_count": 9,
   "id": "6c19615b-7d78-4b0f-9b86-89d9e18fbea2",
   "metadata": {},
   "outputs": [],
   "source": [
    "create_step_training_basic_classifier = kfp.components.create_component_from_func(\n",
    "    func=training_basic_classifier,\n",
    "    base_image='python:3.7',\n",
    "    packages_to_install=['pandas==1.2.4','numpy==1.21.0']\n",
    ")"
   ]
  },
  {
   "cell_type": "code",
   "execution_count": 10,
   "id": "bb4c6a61-7e88-44e9-8651-edc15b48cbc7",
   "metadata": {},
   "outputs": [],
   "source": [
    "create_step_predict_on_test_data = kfp.components.create_component_from_func(\n",
    "    func=predict_on_test_data,\n",
    "    base_image='python:3.7',\n",
    "    packages_to_install=['pandas==1.2.4','numpy==1.21.0']\n",
    ")"
   ]
  },
  {
   "cell_type": "code",
   "execution_count": 11,
   "id": "66de626b-e348-448d-a4c0-9db169e9497b",
   "metadata": {},
   "outputs": [],
   "source": [
    "create_step_get_metrics = kfp.components.create_component_from_func(\n",
    "    func=get_metrics,\n",
    "    base_image='python:3.7',\n",
    "    packages_to_install=['pandas==1.2.4','numpy==1.21.0']\n",
    ")"
   ]
  },
  {
   "cell_type": "code",
   "execution_count": 12,
   "id": "bcf47210-27cf-46d2-8643-c7421deab1e8",
   "metadata": {},
   "outputs": [],
   "source": [
    "# Import necessary libraries and objects from KFP\n",
    "\n",
    "# Define the pipeline\n",
    "@dsl.pipeline(\n",
    "   name='IRIS classifier csv and model passing',\n",
    "   description='A sample pipeline that performs IRIS classifier task with csv passing between components'\n",
    ")\n",
    "# Define parameters to be fed into pipeline\n",
    "def iris_classifier_pipeline(target_column:str, csv_url:str):\n",
    "    prepare_data_task = create_step_prepare_data(csv_url=csv_url)  # Pass the data_path parameter\n",
    "    train_test_split = create_step_train_test_split(prepare_data_task.outputs['output_csv'])\n",
    "    classifier_training = create_step_training_basic_classifier(train_test_split.outputs['train_csv'],\n",
    "                                                               target_column=target_column)\n",
    "    predict_on_test_data = create_step_predict_on_test_data(classifier_training.outputs['trained_model'],\n",
    "                                                           train_test_split.outputs['test_csv'],\n",
    "                                                           target_column=target_column)\n",
    "    log_metrics_task = create_step_get_metrics(classifier_training.outputs['trained_model'],\n",
    "                                              train_test_split.outputs['test_csv'],\n",
    "                                              predict_on_test_data.outputs['y_pred_csv'],\n",
    "                                              target_column=target_column)\n",
    "\n",
    "    prepare_data_task.execution_options.caching_strategy.max_cache_staleness = \"P0D\"\n",
    "    train_test_split.execution_options.caching_strategy.max_cache_staleness = \"P0D\"\n",
    "    classifier_training.execution_options.caching_strategy.max_cache_staleness = \"P0D\"\n",
    "    predict_on_test_data.execution_options.caching_strategy.max_cache_staleness = \"P0D\"\n",
    "    log_metrics_task.execution_options.caching_strategy.max_cache_staleness = \"P0D\"\n"
   ]
  },
  {
   "cell_type": "code",
   "execution_count": 13,
   "id": "d1214673-87f8-4831-aa58-956f588dac30",
   "metadata": {},
   "outputs": [],
   "source": [
    "\n",
    "kfp.compiler.Compiler().compile(\n",
    "    pipeline_func=iris_classifier_pipeline,\n",
    "    package_path='IRIS_Classifier_pipeline2.yaml')\n"
   ]
  },
  {
   "cell_type": "code",
   "execution_count": 14,
   "id": "1594c058-5e6d-4473-8187-f10b479d1f55",
   "metadata": {},
   "outputs": [],
   "source": [
    "client = kfp.Client()"
   ]
  },
  {
   "cell_type": "code",
   "execution_count": 15,
   "id": "6d3f8414-5565-4279-bfeb-82472a32fd40",
   "metadata": {},
   "outputs": [
    {
     "name": "stdout",
     "output_type": "stream",
     "text": [
      "2023-09-10\n"
     ]
    },
    {
     "data": {
      "text/html": [
       "<a href=\"/pipeline/#/experiments/details/ba055e5e-05ac-4844-99d9-5abca5d000c1\" target=\"_blank\" >Experiment details</a>."
      ],
      "text/plain": [
       "<IPython.core.display.HTML object>"
      ]
     },
     "metadata": {},
     "output_type": "display_data"
    },
    {
     "data": {
      "text/html": [
       "<a href=\"/pipeline/#/runs/details/a2541ade-e8a3-49c2-971b-75ccf21a2507\" target=\"_blank\" >Run details</a>."
      ],
      "text/plain": [
       "<IPython.core.display.HTML object>"
      ]
     },
     "metadata": {},
     "output_type": "display_data"
    }
   ],
   "source": [
    "target_column = 'class'\n",
    "csv_url = 'https://raw.githubusercontent.com/TripathiAshutosh/dataset/main/iris.csv' \n",
    "import datetime\n",
    "print(datetime.datetime.now().date())\n",
    "\n",
    "\n",
    "pipeline_func = iris_classifier_pipeline\n",
    "experiment_name = 'iris_classifier_exp' +\"_\"+ str(datetime.datetime.now().date())\n",
    "run_name = pipeline_func.__name__ + ' run'\n",
    "namespace = \"kubeflow\"\n",
    "\n",
    "arguments = {\"target_column\":target_column, \"csv_url\":csv_url}\n",
    "\n",
    "kfp.compiler.Compiler().compile(pipeline_func,  \n",
    "  '{}.zip'.format(experiment_name))\n",
    "\n",
    "run_result = client.create_run_from_pipeline_func(pipeline_func, \n",
    "                                                  experiment_name=experiment_name, \n",
    "                                                  run_name=run_name, \n",
    "                                                  arguments=arguments)\n"
   ]
  },
  {
   "cell_type": "code",
   "execution_count": null,
   "id": "3a2ce24d-d818-4326-859f-c22a03786314",
   "metadata": {},
   "outputs": [],
   "source": []
  }
 ],
 "metadata": {
  "kernelspec": {
   "display_name": "Python 3 (ipykernel)",
   "language": "python",
   "name": "python3"
  },
  "language_info": {
   "codemirror_mode": {
    "name": "ipython",
    "version": 3
   },
   "file_extension": ".py",
   "mimetype": "text/x-python",
   "name": "python",
   "nbconvert_exporter": "python",
   "pygments_lexer": "ipython3",
   "version": "3.8.1"
  }
 },
 "nbformat": 4,
 "nbformat_minor": 5
}
