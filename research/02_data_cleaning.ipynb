{
 "cells": [
  {
   "cell_type": "code",
   "execution_count": 2,
   "metadata": {},
   "outputs": [],
   "source": [
    "import os"
   ]
  },
  {
   "cell_type": "code",
   "execution_count": 3,
   "metadata": {},
   "outputs": [
    {
     "data": {
      "text/plain": [
       "'c:\\\\Users\\\\pcx\\\\Desktop\\\\Projects\\\\muru1\\\\Muru-Car\\\\research'"
      ]
     },
     "execution_count": 3,
     "metadata": {},
     "output_type": "execute_result"
    }
   ],
   "source": [
    "%pwd"
   ]
  },
  {
   "cell_type": "code",
   "execution_count": 4,
   "metadata": {},
   "outputs": [],
   "source": [
    "os.chdir(\"../\")"
   ]
  },
  {
   "cell_type": "code",
   "execution_count": 5,
   "metadata": {},
   "outputs": [
    {
     "data": {
      "text/plain": [
       "'c:\\\\Users\\\\pcx\\\\Desktop\\\\Projects\\\\muru1\\\\Muru-Car'"
      ]
     },
     "execution_count": 5,
     "metadata": {},
     "output_type": "execute_result"
    }
   ],
   "source": [
    "%pwd"
   ]
  },
  {
   "cell_type": "code",
   "execution_count": 6,
   "metadata": {},
   "outputs": [],
   "source": [
    "from dataclasses import dataclass\n",
    "from pathlib import Path\n",
    "\n",
    "\n",
    "@dataclass(frozen=True)\n",
    "class DataCleaningConfig:\n",
    "    root_dir: Path\n",
    "    cleaned_data: Path\n",
    "    unzip_data_dir: Path"
   ]
  },
  {
   "cell_type": "code",
   "execution_count": 7,
   "metadata": {},
   "outputs": [],
   "source": [
    "from mlProject.constants import *\n",
    "from mlProject.utils.common import read_yaml, create_directories"
   ]
  },
  {
   "cell_type": "code",
   "execution_count": 8,
   "metadata": {},
   "outputs": [],
   "source": [
    "class ConfigurationManager:\n",
    "    def __init__(\n",
    "        self,\n",
    "        config_filepath = CONFIG_FILE_PATH,\n",
    "        ):\n",
    "\n",
    "        self.config = read_yaml(config_filepath)\n",
    "\n",
    "        create_directories([self.config.artifacts_root])\n",
    "\n",
    "\n",
    "    \n",
    "    def get_cleaned_data_config(self) -> DataCleaningConfig:\n",
    "        config = self.config.data_cleaning\n",
    "\n",
    "        create_directories([config.root_dir])\n",
    "\n",
    "        data_cleaning_config = DataCleaningConfig(\n",
    "            root_dir=config.root_dir,\n",
    "            cleaned_data=config.cleaned_data,\n",
    "            unzip_data_dir = config.unzip_data_dir,\n",
    "        )\n",
    "\n",
    "        return data_cleaning_config"
   ]
  },
  {
   "cell_type": "code",
   "execution_count": 9,
   "metadata": {},
   "outputs": [],
   "source": [
    "import os\n",
    "from mlProject import logger\n",
    "import pandas as pd\n",
    "import numpy as np\n",
    "from sklearn.preprocessing import StandardScaler, RobustScaler"
   ]
  },
  {
   "cell_type": "code",
   "execution_count": 12,
   "metadata": {},
   "outputs": [],
   "source": [
    "class DataCleaning:\n",
    "    def __init__(self, config: DataCleaningConfig):\n",
    "        self.config = config\n",
    "\n",
    "\n",
    "    def cleaned_data(self) -> pd.DataFrame:\n",
    "      \n",
    "        df = pd.read_csv(self.config.unzip_data_dir)\n",
    "\n",
    "        \n",
    "        df= df.sample(frac=1)\n",
    "        maintenance_df = df.loc[df['Engine Condition'] == 1][:7218]\n",
    "        great_df = df.loc[df['Engine Condition'] == 0]\n",
    "\n",
    "        new_df = pd.concat([maintenance_df, great_df])\n",
    "\n",
    "        new_df = df.sample(frac=1, random_state=42)\n",
    "\n",
    "        save_path = os.path.join(self.config.root_dir, \"new_df.csv\")\n",
    "        new_df.to_csv(save_path, index=False)\n",
    "\n",
    "        return new_df"
   ]
  },
  {
   "cell_type": "code",
   "execution_count": 13,
   "metadata": {},
   "outputs": [
    {
     "name": "stdout",
     "output_type": "stream",
     "text": [
      "[2023-08-18 16:15:14,617: INFO: common: yaml file: config\\config.yaml loaded successfully]\n",
      "[2023-08-18 16:15:14,620: INFO: common: created directory at: artifacts]\n",
      "[2023-08-18 16:15:14,623: INFO: common: created directory at: artifacts/data_cleaning]\n"
     ]
    }
   ],
   "source": [
    "try:\n",
    "    config = ConfigurationManager()\n",
    "    data_cleaning_config = config.get_cleaned_data_config()\n",
    "    data_cleaned = DataCleaning(config=data_cleaning_config)\n",
    "    data_cleaned.cleaned_data()\n",
    "except Exception as e:\n",
    "    raise e"
   ]
  },
  {
   "cell_type": "code",
   "execution_count": 14,
   "metadata": {},
   "outputs": [
    {
     "data": {
      "text/html": [
       "<div>\n",
       "<style scoped>\n",
       "    .dataframe tbody tr th:only-of-type {\n",
       "        vertical-align: middle;\n",
       "    }\n",
       "\n",
       "    .dataframe tbody tr th {\n",
       "        vertical-align: top;\n",
       "    }\n",
       "\n",
       "    .dataframe thead th {\n",
       "        text-align: right;\n",
       "    }\n",
       "</style>\n",
       "<table border=\"1\" class=\"dataframe\">\n",
       "  <thead>\n",
       "    <tr style=\"text-align: right;\">\n",
       "      <th></th>\n",
       "      <th>Engine rpm</th>\n",
       "      <th>Lub oil pressure</th>\n",
       "      <th>Fuel pressure</th>\n",
       "      <th>Coolant pressure</th>\n",
       "      <th>lub oil temp</th>\n",
       "      <th>Coolant temp</th>\n",
       "      <th>Engine Condition</th>\n",
       "    </tr>\n",
       "  </thead>\n",
       "  <tbody>\n",
       "    <tr>\n",
       "      <th>0</th>\n",
       "      <td>551</td>\n",
       "      <td>2.341041</td>\n",
       "      <td>6.397153</td>\n",
       "      <td>1.839974</td>\n",
       "      <td>75.564105</td>\n",
       "      <td>75.167911</td>\n",
       "      <td>1</td>\n",
       "    </tr>\n",
       "    <tr>\n",
       "      <th>1</th>\n",
       "      <td>444</td>\n",
       "      <td>4.676569</td>\n",
       "      <td>5.658346</td>\n",
       "      <td>2.791732</td>\n",
       "      <td>82.940478</td>\n",
       "      <td>86.432827</td>\n",
       "      <td>1</td>\n",
       "    </tr>\n",
       "    <tr>\n",
       "      <th>2</th>\n",
       "      <td>665</td>\n",
       "      <td>4.329838</td>\n",
       "      <td>5.806792</td>\n",
       "      <td>4.760415</td>\n",
       "      <td>77.027646</td>\n",
       "      <td>76.311031</td>\n",
       "      <td>1</td>\n",
       "    </tr>\n",
       "    <tr>\n",
       "      <th>3</th>\n",
       "      <td>840</td>\n",
       "      <td>2.827211</td>\n",
       "      <td>10.715240</td>\n",
       "      <td>5.301226</td>\n",
       "      <td>80.642499</td>\n",
       "      <td>94.933593</td>\n",
       "      <td>1</td>\n",
       "    </tr>\n",
       "    <tr>\n",
       "      <th>4</th>\n",
       "      <td>706</td>\n",
       "      <td>3.234125</td>\n",
       "      <td>4.444432</td>\n",
       "      <td>2.907535</td>\n",
       "      <td>79.091705</td>\n",
       "      <td>85.886788</td>\n",
       "      <td>1</td>\n",
       "    </tr>\n",
       "    <tr>\n",
       "      <th>...</th>\n",
       "      <td>...</td>\n",
       "      <td>...</td>\n",
       "      <td>...</td>\n",
       "      <td>...</td>\n",
       "      <td>...</td>\n",
       "      <td>...</td>\n",
       "      <td>...</td>\n",
       "    </tr>\n",
       "    <tr>\n",
       "      <th>19530</th>\n",
       "      <td>2029</td>\n",
       "      <td>2.457721</td>\n",
       "      <td>5.886757</td>\n",
       "      <td>1.604229</td>\n",
       "      <td>78.404138</td>\n",
       "      <td>73.606039</td>\n",
       "      <td>0</td>\n",
       "    </tr>\n",
       "    <tr>\n",
       "      <th>19531</th>\n",
       "      <td>864</td>\n",
       "      <td>4.874107</td>\n",
       "      <td>8.162206</td>\n",
       "      <td>1.827879</td>\n",
       "      <td>81.266514</td>\n",
       "      <td>71.873059</td>\n",
       "      <td>1</td>\n",
       "    </tr>\n",
       "    <tr>\n",
       "      <th>19532</th>\n",
       "      <td>747</td>\n",
       "      <td>4.393084</td>\n",
       "      <td>6.710736</td>\n",
       "      <td>1.912920</td>\n",
       "      <td>87.331108</td>\n",
       "      <td>73.776276</td>\n",
       "      <td>0</td>\n",
       "    </tr>\n",
       "    <tr>\n",
       "      <th>19533</th>\n",
       "      <td>650</td>\n",
       "      <td>1.978674</td>\n",
       "      <td>5.576337</td>\n",
       "      <td>5.309385</td>\n",
       "      <td>77.590408</td>\n",
       "      <td>83.912826</td>\n",
       "      <td>1</td>\n",
       "    </tr>\n",
       "    <tr>\n",
       "      <th>19534</th>\n",
       "      <td>1235</td>\n",
       "      <td>3.412710</td>\n",
       "      <td>4.810563</td>\n",
       "      <td>1.556489</td>\n",
       "      <td>77.355509</td>\n",
       "      <td>71.660200</td>\n",
       "      <td>0</td>\n",
       "    </tr>\n",
       "  </tbody>\n",
       "</table>\n",
       "<p>19535 rows × 7 columns</p>\n",
       "</div>"
      ],
      "text/plain": [
       "       Engine rpm  Lub oil pressure  Fuel pressure  Coolant pressure  \\\n",
       "0             551          2.341041       6.397153          1.839974   \n",
       "1             444          4.676569       5.658346          2.791732   \n",
       "2             665          4.329838       5.806792          4.760415   \n",
       "3             840          2.827211      10.715240          5.301226   \n",
       "4             706          3.234125       4.444432          2.907535   \n",
       "...           ...               ...            ...               ...   \n",
       "19530        2029          2.457721       5.886757          1.604229   \n",
       "19531         864          4.874107       8.162206          1.827879   \n",
       "19532         747          4.393084       6.710736          1.912920   \n",
       "19533         650          1.978674       5.576337          5.309385   \n",
       "19534        1235          3.412710       4.810563          1.556489   \n",
       "\n",
       "       lub oil temp  Coolant temp  Engine Condition  \n",
       "0         75.564105     75.167911                 1  \n",
       "1         82.940478     86.432827                 1  \n",
       "2         77.027646     76.311031                 1  \n",
       "3         80.642499     94.933593                 1  \n",
       "4         79.091705     85.886788                 1  \n",
       "...             ...           ...               ...  \n",
       "19530     78.404138     73.606039                 0  \n",
       "19531     81.266514     71.873059                 1  \n",
       "19532     87.331108     73.776276                 0  \n",
       "19533     77.590408     83.912826                 1  \n",
       "19534     77.355509     71.660200                 0  \n",
       "\n",
       "[19535 rows x 7 columns]"
      ]
     },
     "execution_count": 14,
     "metadata": {},
     "output_type": "execute_result"
    }
   ],
   "source": [
    "pd.read_csv(\"artifacts/data_cleaning/new_df.csv\")"
   ]
  },
  {
   "cell_type": "code",
   "execution_count": null,
   "metadata": {},
   "outputs": [],
   "source": []
  }
 ],
 "metadata": {
  "kernelspec": {
   "display_name": "Python 3",
   "language": "python",
   "name": "python3"
  },
  "language_info": {
   "codemirror_mode": {
    "name": "ipython",
    "version": 3
   },
   "file_extension": ".py",
   "mimetype": "text/x-python",
   "name": "python",
   "nbconvert_exporter": "python",
   "pygments_lexer": "ipython3",
   "version": "3.8.17"
  },
  "orig_nbformat": 4
 },
 "nbformat": 4,
 "nbformat_minor": 2
}
